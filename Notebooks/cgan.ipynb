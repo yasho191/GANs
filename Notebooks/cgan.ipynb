{
 "cells": [
  {
   "cell_type": "code",
   "execution_count": 1,
   "id": "e5766ca1",
   "metadata": {
    "execution": {
     "iopub.execute_input": "2023-05-28T07:59:44.984962Z",
     "iopub.status.busy": "2023-05-28T07:59:44.984242Z",
     "iopub.status.idle": "2023-05-28T07:59:48.032627Z",
     "shell.execute_reply": "2023-05-28T07:59:48.031680Z"
    },
    "papermill": {
     "duration": 3.059539,
     "end_time": "2023-05-28T07:59:48.035267",
     "exception": false,
     "start_time": "2023-05-28T07:59:44.975728",
     "status": "completed"
    },
    "tags": []
   },
   "outputs": [],
   "source": [
    "import random\n",
    "import torch\n",
    "import torch.nn as nn\n",
    "import torch.optim as optim\n",
    "import torch.utils.data as data\n",
    "import torchvision.datasets as datasets\n",
    "import torchvision.transforms as transforms\n",
    "import torchvision.utils as torch_utils\n",
    "import numpy as np\n",
    "import matplotlib.pyplot as plt\n",
    "import matplotlib.animation as animation"
   ]
  },
  {
   "cell_type": "code",
   "execution_count": 2,
   "id": "0b89759c",
   "metadata": {
    "execution": {
     "iopub.execute_input": "2023-05-28T07:59:48.047348Z",
     "iopub.status.busy": "2023-05-28T07:59:48.045450Z",
     "iopub.status.idle": "2023-05-28T07:59:48.057994Z",
     "shell.execute_reply": "2023-05-28T07:59:48.057099Z"
    },
    "papermill": {
     "duration": 0.019895,
     "end_time": "2023-05-28T07:59:48.059951",
     "exception": false,
     "start_time": "2023-05-28T07:59:48.040056",
     "status": "completed"
    },
    "tags": []
   },
   "outputs": [
    {
     "name": "stdout",
     "output_type": "stream",
     "text": [
      "Random Seed:  123\n"
     ]
    },
    {
     "data": {
      "text/plain": [
       "<torch._C.Generator at 0x7e2e5ba5b610>"
      ]
     },
     "execution_count": 2,
     "metadata": {},
     "output_type": "execute_result"
    }
   ],
   "source": [
    "manualSeed = 123\n",
    "print(\"Random Seed: \", manualSeed)\n",
    "random.seed(manualSeed)\n",
    "torch.manual_seed(manualSeed)"
   ]
  },
  {
   "cell_type": "code",
   "execution_count": 3,
   "id": "2e638aee",
   "metadata": {
    "execution": {
     "iopub.execute_input": "2023-05-28T07:59:48.070423Z",
     "iopub.status.busy": "2023-05-28T07:59:48.069724Z",
     "iopub.status.idle": "2023-05-28T07:59:48.074642Z",
     "shell.execute_reply": "2023-05-28T07:59:48.073828Z"
    },
    "papermill": {
     "duration": 0.012304,
     "end_time": "2023-05-28T07:59:48.076762",
     "exception": false,
     "start_time": "2023-05-28T07:59:48.064458",
     "status": "completed"
    },
    "tags": []
   },
   "outputs": [],
   "source": [
    "data_dir = \"/kaggle/input/hindi-mnist/Hindi-MNIST/train\"\n",
    "model_save_path = \"/kaggle/working/cgan_hindi_mnist.pt\"\n",
    "animation_save_path = \"/kaggle/working/cgan_animation.mp4\"\n",
    "training_plot_save_path = \"/kaggle/working/train_plot.png\""
   ]
  },
  {
   "cell_type": "code",
   "execution_count": 4,
   "id": "055137f6",
   "metadata": {
    "execution": {
     "iopub.execute_input": "2023-05-28T07:59:48.086719Z",
     "iopub.status.busy": "2023-05-28T07:59:48.086463Z",
     "iopub.status.idle": "2023-05-28T07:59:50.587936Z",
     "shell.execute_reply": "2023-05-28T07:59:50.586926Z"
    },
    "papermill": {
     "duration": 2.509163,
     "end_time": "2023-05-28T07:59:50.590310",
     "exception": false,
     "start_time": "2023-05-28T07:59:48.081147",
     "status": "completed"
    },
    "tags": []
   },
   "outputs": [],
   "source": [
    "device = torch.device(\"cuda\" if torch.cuda.is_available() else \"cpu\")\n",
    "image_size = 64\n",
    "lr = 0.0002\n",
    "beta1 = 0.5\n",
    "batch_size = 64\n",
    "noise_dim = 100\n",
    "workers = 2\n",
    "num_epochs = 5\n",
    "classes = 10\n",
    "# Monitor Progress\n",
    "progress = list()\n",
    "fixed_noise = torch.randn(100, noise_dim, device=device)\n",
    "fixed_labels = torch.Tensor([[i]*10 for i in range(10)]).view(100,).int().to(device)"
   ]
  },
  {
   "cell_type": "code",
   "execution_count": 5,
   "id": "af450b16",
   "metadata": {
    "execution": {
     "iopub.execute_input": "2023-05-28T07:59:50.602233Z",
     "iopub.status.busy": "2023-05-28T07:59:50.601291Z",
     "iopub.status.idle": "2023-05-28T07:59:50.611656Z",
     "shell.execute_reply": "2023-05-28T07:59:50.610769Z"
    },
    "papermill": {
     "duration": 0.018504,
     "end_time": "2023-05-28T07:59:50.613704",
     "exception": false,
     "start_time": "2023-05-28T07:59:50.595200",
     "status": "completed"
    },
    "tags": []
   },
   "outputs": [],
   "source": [
    "# Discriminator\n",
    "class Discriminator(nn.Module):\n",
    "    def __init__(self, classes) -> None:\n",
    "        super(Discriminator, self).__init__()\n",
    "        self.classes = classes\n",
    "\n",
    "        self.embedding = nn.Sequential(\n",
    "            nn.Embedding(classes, 100),\n",
    "            nn.Linear(100, 1*64*64)\n",
    "        )\n",
    "\n",
    "        conv_1 = self.conv_block(4, 64)\n",
    "        conv_2 = self.conv_block(64, 128)\n",
    "        conv_3 = self.conv_block(128, 256)\n",
    "        conv_4 = self.conv_block(256, 512)\n",
    "\n",
    "        self.classifier = nn.Sequential(\n",
    "            conv_1,\n",
    "            conv_2,\n",
    "            conv_3,\n",
    "            conv_4,\n",
    "            nn.Conv2d(512, 1024, (5, 5), 2, 1),\n",
    "            nn.BatchNorm2d(1024),\n",
    "            nn.LeakyReLU(0.2, inplace=True),\n",
    "            nn.Flatten(),\n",
    "            nn.Dropout(0.4),\n",
    "            nn.Linear(1024, 1),\n",
    "            nn.Sigmoid()\n",
    "        )\n",
    "\n",
    "    def conv_block(self, in_channels, out_channels):\n",
    "        return nn.Sequential(\n",
    "            nn.Conv2d(in_channels, out_channels, (5, 5), 2, 2),\n",
    "            nn.BatchNorm2d(out_channels),\n",
    "            nn.LeakyReLU(0.2, inplace=True),\n",
    "        )\n",
    "    \n",
    "    def forward(self, x, label):\n",
    "        label_embedding = self.embedding(label).view(-1, 1, 64, 64)\n",
    "        comb_latent_vector = torch.concat((x, label_embedding), dim=1)\n",
    "        output = self.classifier(comb_latent_vector)\n",
    "        return output"
   ]
  },
  {
   "cell_type": "code",
   "execution_count": 6,
   "id": "bb735db7",
   "metadata": {
    "execution": {
     "iopub.execute_input": "2023-05-28T07:59:50.623656Z",
     "iopub.status.busy": "2023-05-28T07:59:50.623370Z",
     "iopub.status.idle": "2023-05-28T07:59:50.632914Z",
     "shell.execute_reply": "2023-05-28T07:59:50.631931Z"
    },
    "papermill": {
     "duration": 0.017116,
     "end_time": "2023-05-28T07:59:50.635221",
     "exception": false,
     "start_time": "2023-05-28T07:59:50.618105",
     "status": "completed"
    },
    "tags": []
   },
   "outputs": [],
   "source": [
    "class Generator(nn.Module):\n",
    "    def __init__(self, classes):\n",
    "        super(Generator, self).__init__()\n",
    "        self.classes = classes\n",
    "\n",
    "        self.embedding = nn.Sequential(\n",
    "            nn.Embedding(classes, 100),\n",
    "            nn.Linear(100, 8*8)\n",
    "        )\n",
    "\n",
    "        self.latent_vector = nn.Sequential(\n",
    "            nn.Linear(100, 512*8*8),\n",
    "            nn.LeakyReLU(0.2, inplace=True),\n",
    "        )\n",
    "\n",
    "        upsample_1 = self.upsample_block(513, 256, 1)\n",
    "        upsample_2 = self.upsample_block(256, 128, 1)\n",
    "        upsample_3 = self.upsample_block(128, 64, 1)\n",
    "\n",
    "        self.conv_model = nn.Sequential(\n",
    "            upsample_1,\n",
    "            upsample_2,\n",
    "            upsample_3,\n",
    "            nn.Conv2d(64, 3, (1, 1), 1, 0),\n",
    "            nn.Tanh()\n",
    "        )\n",
    "    \n",
    "    def upsample_block(self, in_channels, out_channels, padding):\n",
    "        return nn.Sequential(\n",
    "            nn.ConvTranspose2d(in_channels, out_channels, (4, 4), 2, padding),\n",
    "            nn.BatchNorm2d(out_channels),\n",
    "            nn.ReLU(inplace=True),\n",
    "        )\n",
    "    \n",
    "    def forward(self, x, label):\n",
    "        latent_vector = self.latent_vector(x).view(-1, 512, 8, 8)\n",
    "        label_embedding = self.embedding(label).view(-1, 1, 8, 8)\n",
    "        comb_latent_vector = torch.concat((latent_vector, label_embedding), dim = 1)\n",
    "        output = self.conv_model(comb_latent_vector)\n",
    "        return output"
   ]
  },
  {
   "cell_type": "code",
   "execution_count": 7,
   "id": "ff424a18",
   "metadata": {
    "execution": {
     "iopub.execute_input": "2023-05-28T07:59:50.645051Z",
     "iopub.status.busy": "2023-05-28T07:59:50.644798Z",
     "iopub.status.idle": "2023-05-28T07:59:50.650166Z",
     "shell.execute_reply": "2023-05-28T07:59:50.649274Z"
    },
    "papermill": {
     "duration": 0.012501,
     "end_time": "2023-05-28T07:59:50.652094",
     "exception": false,
     "start_time": "2023-05-28T07:59:50.639593",
     "status": "completed"
    },
    "tags": []
   },
   "outputs": [],
   "source": [
    "# custom weights initialization\n",
    "# Reference (PyTorch Tutorials)\n",
    "def weights_init(m):\n",
    "    classname = m.__class__.__name__\n",
    "    if classname.find(\"Conv\") != -1:\n",
    "        nn.init.normal_(m.weight.data, 0.0, 0.02)\n",
    "    elif classname.find(\"BatchNorm\") != -1:\n",
    "        nn.init.normal_(m.weight.data, 1.0, 0.02)\n",
    "        nn.init.constant_(m.bias.data, 0)"
   ]
  },
  {
   "cell_type": "code",
   "execution_count": 8,
   "id": "a63280a1",
   "metadata": {
    "execution": {
     "iopub.execute_input": "2023-05-28T07:59:50.662410Z",
     "iopub.status.busy": "2023-05-28T07:59:50.661671Z",
     "iopub.status.idle": "2023-05-28T08:00:03.293848Z",
     "shell.execute_reply": "2023-05-28T08:00:03.292836Z"
    },
    "papermill": {
     "duration": 12.639829,
     "end_time": "2023-05-28T08:00:03.296353",
     "exception": false,
     "start_time": "2023-05-28T07:59:50.656524",
     "status": "completed"
    },
    "tags": []
   },
   "outputs": [],
   "source": [
    "dataset = datasets.ImageFolder(root=data_dir,\n",
    "                               transform=transforms.Compose([\n",
    "                                    transforms.Resize(image_size),\n",
    "                                    transforms.CenterCrop(image_size),\n",
    "                                    transforms.ToTensor(),\n",
    "                                    transforms.Normalize((0.5, 0.5, 0.5), (0.5, 0.5, 0.5)),\n",
    "                               ]))\n",
    "\n",
    "dataloader = data.DataLoader(dataset, \n",
    "                             batch_size=batch_size,\n",
    "                             shuffle=True, \n",
    "                             num_workers=workers)"
   ]
  },
  {
   "cell_type": "code",
   "execution_count": 9,
   "id": "8115fcd3",
   "metadata": {
    "execution": {
     "iopub.execute_input": "2023-05-28T08:00:03.307463Z",
     "iopub.status.busy": "2023-05-28T08:00:03.306626Z",
     "iopub.status.idle": "2023-05-28T08:00:03.548441Z",
     "shell.execute_reply": "2023-05-28T08:00:03.547314Z"
    },
    "papermill": {
     "duration": 0.250032,
     "end_time": "2023-05-28T08:00:03.551185",
     "exception": false,
     "start_time": "2023-05-28T08:00:03.301153",
     "status": "completed"
    },
    "tags": []
   },
   "outputs": [
    {
     "data": {
      "text/plain": [
       "Generator(\n",
       "  (embedding): Sequential(\n",
       "    (0): Embedding(10, 100)\n",
       "    (1): Linear(in_features=100, out_features=64, bias=True)\n",
       "  )\n",
       "  (latent_vector): Sequential(\n",
       "    (0): Linear(in_features=100, out_features=32768, bias=True)\n",
       "    (1): LeakyReLU(negative_slope=0.2, inplace=True)\n",
       "  )\n",
       "  (conv_model): Sequential(\n",
       "    (0): Sequential(\n",
       "      (0): ConvTranspose2d(513, 256, kernel_size=(4, 4), stride=(2, 2), padding=(1, 1))\n",
       "      (1): BatchNorm2d(256, eps=1e-05, momentum=0.1, affine=True, track_running_stats=True)\n",
       "      (2): ReLU(inplace=True)\n",
       "    )\n",
       "    (1): Sequential(\n",
       "      (0): ConvTranspose2d(256, 128, kernel_size=(4, 4), stride=(2, 2), padding=(1, 1))\n",
       "      (1): BatchNorm2d(128, eps=1e-05, momentum=0.1, affine=True, track_running_stats=True)\n",
       "      (2): ReLU(inplace=True)\n",
       "    )\n",
       "    (2): Sequential(\n",
       "      (0): ConvTranspose2d(128, 64, kernel_size=(4, 4), stride=(2, 2), padding=(1, 1))\n",
       "      (1): BatchNorm2d(64, eps=1e-05, momentum=0.1, affine=True, track_running_stats=True)\n",
       "      (2): ReLU(inplace=True)\n",
       "    )\n",
       "    (3): Conv2d(64, 3, kernel_size=(1, 1), stride=(1, 1))\n",
       "    (4): Tanh()\n",
       "  )\n",
       ")"
      ]
     },
     "execution_count": 9,
     "metadata": {},
     "output_type": "execute_result"
    }
   ],
   "source": [
    "disc_net = Discriminator(classes)\n",
    "gen_net = Generator(classes)\n",
    "disc_net.to(device)\n",
    "gen_net.to(device)\n",
    "disc_net.apply(weights_init)\n",
    "gen_net.apply(weights_init)"
   ]
  },
  {
   "cell_type": "code",
   "execution_count": 10,
   "id": "fee0a167",
   "metadata": {
    "execution": {
     "iopub.execute_input": "2023-05-28T08:00:03.562063Z",
     "iopub.status.busy": "2023-05-28T08:00:03.561767Z",
     "iopub.status.idle": "2023-05-28T08:00:03.567113Z",
     "shell.execute_reply": "2023-05-28T08:00:03.566136Z"
    },
    "papermill": {
     "duration": 0.012923,
     "end_time": "2023-05-28T08:00:03.569027",
     "exception": false,
     "start_time": "2023-05-28T08:00:03.556104",
     "status": "completed"
    },
    "tags": []
   },
   "outputs": [],
   "source": [
    "criterion = nn.BCELoss()\n",
    "\n",
    "disc_optimizer = optim.Adam(disc_net.parameters(), lr=lr, betas=(beta1, 0.999))\n",
    "gen_optimizer = optim.Adam(gen_net.parameters(), lr=lr, betas=(beta1, 0.999))"
   ]
  },
  {
   "cell_type": "code",
   "execution_count": 11,
   "id": "48628cc4",
   "metadata": {
    "execution": {
     "iopub.execute_input": "2023-05-28T08:00:03.579537Z",
     "iopub.status.busy": "2023-05-28T08:00:03.579255Z",
     "iopub.status.idle": "2023-05-28T08:03:12.978265Z",
     "shell.execute_reply": "2023-05-28T08:03:12.977153Z"
    },
    "papermill": {
     "duration": 189.407219,
     "end_time": "2023-05-28T08:03:12.980938",
     "exception": false,
     "start_time": "2023-05-28T08:00:03.573719",
     "status": "completed"
    },
    "tags": []
   },
   "outputs": [
    {
     "name": "stdout",
     "output_type": "stream",
     "text": [
      "Starting Training Loop...\n",
      "[0/5][0/266]\tLoss_D: 0.7395462989807129\tLoss_G: 1.0489280223846436\n",
      "[0/5][50/266]\tLoss_D: 0.3959703743457794\tLoss_G: 1.3331546783447266\n",
      "[0/5][100/266]\tLoss_D: 0.3123405873775482\tLoss_G: 1.5041239261627197\n",
      "[0/5][150/266]\tLoss_D: 0.4944750666618347\tLoss_G: 0.9612898826599121\n",
      "[0/5][200/266]\tLoss_D: 0.4579263925552368\tLoss_G: 1.2586264610290527\n",
      "[0/5][250/266]\tLoss_D: 0.3601597547531128\tLoss_G: 1.3710103034973145\n",
      "[1/5][0/266]\tLoss_D: 0.3369591236114502\tLoss_G: 1.5956714153289795\n",
      "[1/5][50/266]\tLoss_D: 0.2221633791923523\tLoss_G: 1.9550806283950806\n",
      "[1/5][100/266]\tLoss_D: 0.1895737498998642\tLoss_G: 2.248289108276367\n",
      "[1/5][150/266]\tLoss_D: 0.18706639111042023\tLoss_G: 2.1991066932678223\n",
      "[1/5][200/266]\tLoss_D: 0.10956026613712311\tLoss_G: 2.4196105003356934\n",
      "[1/5][250/266]\tLoss_D: 0.11830856651067734\tLoss_G: 2.576968193054199\n",
      "[2/5][0/266]\tLoss_D: 0.11488695442676544\tLoss_G: 2.8998379707336426\n",
      "[2/5][50/266]\tLoss_D: 0.08223699033260345\tLoss_G: 2.836935043334961\n",
      "[2/5][100/266]\tLoss_D: 0.10025579482316971\tLoss_G: 3.35471510887146\n",
      "[2/5][150/266]\tLoss_D: 0.1882866621017456\tLoss_G: 3.54526948928833\n",
      "[2/5][200/266]\tLoss_D: 0.14827920496463776\tLoss_G: 2.6705923080444336\n",
      "[2/5][250/266]\tLoss_D: 0.21279610693454742\tLoss_G: 2.627401828765869\n",
      "[3/5][0/266]\tLoss_D: 0.11356993019580841\tLoss_G: 3.1792967319488525\n",
      "[3/5][50/266]\tLoss_D: 0.11190244555473328\tLoss_G: 3.11246919631958\n",
      "[3/5][100/266]\tLoss_D: 0.20588919520378113\tLoss_G: 3.0087809562683105\n",
      "[3/5][150/266]\tLoss_D: 0.25280648469924927\tLoss_G: 2.438401222229004\n",
      "[3/5][200/266]\tLoss_D: 0.0907297357916832\tLoss_G: 3.869311809539795\n",
      "[3/5][250/266]\tLoss_D: 0.07073261588811874\tLoss_G: 3.273944854736328\n",
      "[4/5][0/266]\tLoss_D: 0.0510711707174778\tLoss_G: 4.115708351135254\n",
      "[4/5][50/266]\tLoss_D: 0.5003044009208679\tLoss_G: 1.185021996498108\n",
      "[4/5][100/266]\tLoss_D: 0.48669567704200745\tLoss_G: 0.7089780569076538\n",
      "[4/5][150/266]\tLoss_D: 0.07847759127616882\tLoss_G: 3.9671192169189453\n",
      "[4/5][200/266]\tLoss_D: 0.36400240659713745\tLoss_G: 2.157440423965454\n",
      "[4/5][250/266]\tLoss_D: 0.05828453600406647\tLoss_G: 3.492077112197876\n"
     ]
    }
   ],
   "source": [
    "# Training Loop\n",
    "\n",
    "# Lists to keep track of progress\n",
    "G_losses = []\n",
    "D_losses = []\n",
    "iters = 0\n",
    "\n",
    "print(\"Starting Training Loop...\")\n",
    "for epoch in range(num_epochs):\n",
    "    for i, data in enumerate(dataloader, 0):\n",
    "        real_images = data[0].to(device)\n",
    "        real_labels = data[1].to(device)\n",
    "        num_images = real_images.size(0)\n",
    "        \n",
    "        real_target = torch.ones(num_images,).to(device)\n",
    "        fake_target = torch.zeros(num_images,).to(device)\n",
    "        \n",
    "        # Training the discriminator\n",
    "        # Train Discriminator on Real Images and Fake Images\n",
    "        disc_net.zero_grad()\n",
    "\n",
    "        real_output = disc_net(real_images, real_labels).view(-1)\n",
    "        disc_err_real = criterion(real_output, real_target)\n",
    "        \n",
    "        # Conditional Noise\n",
    "        noise = torch.randn(num_images, noise_dim, device=device)\n",
    "        noise_labels = torch.randint(0, classes, (num_images, ), device=device)\n",
    "\n",
    "        fake = gen_net(noise, noise_labels)\n",
    "\n",
    "        fake_output = disc_net(fake.detach(), noise_labels).view(-1)\n",
    "        disc_err_fake = criterion(fake_output, fake_target)\n",
    "\n",
    "        disc_err = (disc_err_real + disc_err_fake)/2\n",
    "        disc_err.backward()\n",
    "        disc_optimizer.step()\n",
    "\n",
    "        # Training the Generator\n",
    "        # Steps:\n",
    "        # 1. Get Discriminator Predictions on Fake Images\n",
    "        # 2. Calculate loss\n",
    "        gen_net.zero_grad()\n",
    "        \n",
    "        output = disc_net(fake, noise_labels).view(-1)\n",
    "\n",
    "        gen_err = criterion(output, real_target)\n",
    "        gen_err.backward()\n",
    "        gen_optimizer.step()\n",
    "\n",
    "        # Training Update\n",
    "        if i % 50 == 0:\n",
    "            print(\n",
    "                f\"[{epoch}/{num_epochs}][{i}/{len(dataloader)}]\\tLoss_D: {disc_err.item()}\\tLoss_G: {gen_err.item()}\"\n",
    "            )\n",
    "\n",
    "        # Tracking loss\n",
    "        G_losses.append(gen_err.item())\n",
    "        D_losses.append(disc_err.item())\n",
    "\n",
    "        # Tracking Generator Progress\n",
    "        if (iters % 10 == 0) or (\n",
    "            (epoch == num_epochs - 1) and (i == len(dataloader) - 1)\n",
    "        ):\n",
    "            with torch.no_grad():\n",
    "                fake = gen_net(fixed_noise, fixed_labels).detach().cpu()\n",
    "            progress.append(torch_utils.make_grid(fake, padding=2, nrow=10, normalize=True))\n",
    "\n",
    "        iters += 1"
   ]
  },
  {
   "cell_type": "code",
   "execution_count": 12,
   "id": "af395ab1",
   "metadata": {
    "execution": {
     "iopub.execute_input": "2023-05-28T08:03:12.998146Z",
     "iopub.status.busy": "2023-05-28T08:03:12.996324Z",
     "iopub.status.idle": "2023-05-28T08:03:13.049825Z",
     "shell.execute_reply": "2023-05-28T08:03:13.048868Z"
    },
    "papermill": {
     "duration": 0.064082,
     "end_time": "2023-05-28T08:03:13.052212",
     "exception": false,
     "start_time": "2023-05-28T08:03:12.988130",
     "status": "completed"
    },
    "tags": []
   },
   "outputs": [],
   "source": [
    "# Save generator\n",
    "torch.save(gen_net, model_save_path)"
   ]
  },
  {
   "cell_type": "code",
   "execution_count": 13,
   "id": "c3bc73e2",
   "metadata": {
    "execution": {
     "iopub.execute_input": "2023-05-28T08:03:13.067626Z",
     "iopub.status.busy": "2023-05-28T08:03:13.067318Z",
     "iopub.status.idle": "2023-05-28T08:03:13.530627Z",
     "shell.execute_reply": "2023-05-28T08:03:13.528970Z"
    },
    "papermill": {
     "duration": 0.47363,
     "end_time": "2023-05-28T08:03:13.532975",
     "exception": false,
     "start_time": "2023-05-28T08:03:13.059345",
     "status": "completed"
    },
    "tags": []
   },
   "outputs": [
    {
     "data": {
      "image/png": "[encoded data removed]",
      "text/plain": [
       "<Figure size 1000x500 with 1 Axes>"
      ]
     },
     "metadata": {},
     "output_type": "display_data"
    }
   ],
   "source": [
    "# Plot Training Graph\n",
    "fig1 = plt.figure(figsize=(10, 5))\n",
    "plt.title(\"Generator and Discriminator Loss During Training\")\n",
    "plt.plot(G_losses, label=\"G\")\n",
    "plt.plot(D_losses, label=\"D\")\n",
    "plt.xlabel(\"iterations\")\n",
    "plt.ylabel(\"Loss\")\n",
    "plt.legend()\n",
    "plt.savefig(training_plot_save_path)\n",
    "plt.show()"
   ]
  },
  {
   "cell_type": "code",
   "execution_count": 14,
   "id": "b23eb294",
   "metadata": {
    "execution": {
     "iopub.execute_input": "2023-05-28T08:03:13.549886Z",
     "iopub.status.busy": "2023-05-28T08:03:13.549592Z",
     "iopub.status.idle": "2023-05-28T08:03:48.802916Z",
     "shell.execute_reply": "2023-05-28T08:03:48.801883Z"
    },
    "papermill": {
     "duration": 35.264879,
     "end_time": "2023-05-28T08:03:48.805701",
     "exception": false,
     "start_time": "2023-05-28T08:03:13.540822",
     "status": "completed"
    },
    "tags": []
   },
   "outputs": [],
   "source": [
    "# Progress Animation\n",
    "fig2 = plt.figure(figsize=(10, 10))\n",
    "plt.axis(\"off\")\n",
    "ims = [[plt.imshow(np.transpose(i, (1, 2, 0)), animated=True)] for i in progress]\n",
    "anim = animation.ArtistAnimation(fig2, ims, interval=1000, repeat_delay=1000, blit=True)\n",
    "writervideo = animation.FFMpegWriter(fps=5)\n",
    "anim.save(animation_save_path, writer=writervideo)\n",
    "plt.close()"
   ]
  }
 ],
 "metadata": {
  "kernelspec": {
   "display_name": "Python 3",
   "language": "python",
   "name": "python3"
  },
  "language_info": {
   "codemirror_mode": {
    "name": "ipython",
    "version": 3
   },
   "file_extension": ".py",
   "mimetype": "text/x-python",
   "name": "python",
   "nbconvert_exporter": "python",
   "pygments_lexer": "ipython3",
   "version": "3.10.10"
  },
  "papermill": {
   "default_parameters": {},
   "duration": 256.759263,
   "end_time": "2023-05-28T08:03:51.345880",
   "environment_variables": {},
   "exception": null,
   "input_path": "__notebook__.ipynb",
   "output_path": "__notebook__.ipynb",
   "parameters": {},
   "start_time": "2023-05-28T07:59:34.586617",
   "version": "2.4.0"
  }
 },
 "nbformat": 4,
 "nbformat_minor": 5
}
